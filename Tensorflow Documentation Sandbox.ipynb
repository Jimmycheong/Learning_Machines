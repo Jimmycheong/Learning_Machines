{
 "cells": [
  {
   "cell_type": "markdown",
   "metadata": {},
   "source": [
    "# Tensorflow Documentation Sandbox \n",
    "\n",
    "Playground for documentation "
   ]
  },
  {
   "cell_type": "markdown",
   "metadata": {},
   "source": [
    "### Session"
   ]
  },
  {
   "cell_type": "code",
   "execution_count": 1,
   "metadata": {},
   "outputs": [
    {
     "name": "stdout",
     "output_type": "stream",
     "text": [
      "30.0\n"
     ]
    }
   ],
   "source": [
    "import tensorflow as tf\n",
    "\n",
    "# Build a graph\n",
    "a = tf.constant(5.0)\n",
    "b = tf.constant(6.0)\n",
    "\n",
    "c = a * b\n",
    "\n",
    "#Launch the graph in a session.\n",
    "sess = tf.Session()\n",
    "\n",
    "#Evaluate the tensor 'c'\n",
    "print(sess.run(c))"
   ]
  },
  {
   "cell_type": "markdown",
   "metadata": {},
   "source": [
    "It is important to release these resources when they are no longer required. This can be done using the tf.Session.close() method"
   ]
  },
  {
   "cell_type": "code",
   "execution_count": 2,
   "metadata": {
    "collapsed": true
   },
   "outputs": [],
   "source": [
    "# Using the close method\n",
    "sess = tf.Session()\n",
    "sess.run(c)\n",
    "sess.close()\n",
    "\n",
    "#Using the context manager\n",
    "with tf.Session() as sess:\n",
    "    sess.run(c)"
   ]
  },
  {
   "cell_type": "markdown",
   "metadata": {},
   "source": [
    "### Variables \n",
    "\n",
    "reference: https://www.tensorflow.org/programmers_guide/variables "
   ]
  },
  {
   "cell_type": "markdown",
   "metadata": {},
   "source": [
    "- Represents a tensor whose value can be changed by runnning ops on it.\n",
    "- Unlike, tf.Tensor objects, a ``tf.Variable`` exists out the context of a single session.run call \n",
    "- Stores a presistent tensor. \n",
    "\n",
    "To create a variable, use the tf.get_variable() method"
   ]
  },
  {
   "cell_type": "code",
   "execution_count": 3,
   "metadata": {
    "collapsed": true
   },
   "outputs": [],
   "source": [
    "my_variable = tf.get_variable(\"my_variable\", [1,2,3])"
   ]
  },
  {
   "cell_type": "markdown",
   "metadata": {},
   "source": [
    "By default, these will by of dtype float32, and the initial values randomized using the tf.glorot_uniform_initializer\n",
    "\n",
    "We can initialize the values of using different initializers "
   ]
  },
  {
   "cell_type": "code",
   "execution_count": 4,
   "metadata": {
    "collapsed": true
   },
   "outputs": [],
   "source": [
    "my_int_variable = tf.get_variable(\"my_int_variable\", [1,2,3], dtype=tf.int32, initializer=tf.zeros_initializer)"
   ]
  },
  {
   "cell_type": "code",
   "execution_count": 5,
   "metadata": {
    "collapsed": true
   },
   "outputs": [],
   "source": [
    "other_variable = tf.get_variable(\"other_variable\", dtype=tf.int32, initializer=tf.constant([23,42]))"
   ]
  },
  {
   "cell_type": "markdown",
   "metadata": {},
   "source": [
    "#### Using variables \n",
    "\n",
    "\n"
   ]
  },
  {
   "cell_type": "code",
   "execution_count": 6,
   "metadata": {
    "collapsed": true
   },
   "outputs": [],
   "source": [
    "v = tf.get_variable(\"v\", shape=(), initializer=tf.zeros_initializer())\n",
    "w = v + 1  # w is a tf.Tensor which is computed based on the value of v.\n",
    "           # Any time a variable is used in an expression it gets automatically\n",
    "           # converted to a tf.Tensor representing its value."
   ]
  },
  {
   "cell_type": "markdown",
   "metadata": {},
   "source": [
    "**Note** There is a difference in using tf.Variable() and tf.get_variable(). See here: https://stackoverflow.com/questions/37098546/difference-between-variable-and-get-variable-in-tensorflow "
   ]
  },
  {
   "cell_type": "markdown",
   "metadata": {},
   "source": [
    "# Placeholder\n",
    "\n",
    "Reference: https://www.tensorflow.org/api_docs/python/tf/placeholder "
   ]
  },
  {
   "cell_type": "code",
   "execution_count": 7,
   "metadata": {},
   "outputs": [
    {
     "name": "stdout",
     "output_type": "stream",
     "text": [
      "[[ 251.18945312  249.89321899  257.1477356  ...,  260.36242676  256.9755249\n",
      "   250.92588806]\n",
      " [ 253.71710205  256.31854248  260.19198608 ...,  261.63299561\n",
      "   260.51138306  255.90933228]\n",
      " [ 248.76158142  249.50053406  257.25646973 ...,  250.21209717\n",
      "   253.58320618  248.64038086]\n",
      " ..., \n",
      " [ 245.64065552  248.19085693  250.21273804 ...,  252.24645996\n",
      "   255.68386841  247.31021118]\n",
      " [ 251.14926147  253.87886047  256.6362915  ...,  260.31607056\n",
      "   258.76513672  254.51991272]\n",
      " [ 246.53236389  242.37911987  249.32304382 ...,  248.03804016\n",
      "   246.86373901  243.35105896]]\n"
     ]
    }
   ],
   "source": [
    "import tensorflow as tf\n",
    "import numpy as np\n",
    "\n",
    "x = tf.placeholder(tf.float32, shape=(1024, 1024))\n",
    "y = tf.matmul(x, x)\n",
    "\n",
    "with tf.Session() as sess:\n",
    "#   print(sess.run(y))  # ERROR: will fail because x was not fed.\n",
    "\n",
    "  rand_array = np.random.rand(1024, 1024)\n",
    "  print(sess.run(y, feed_dict={x: rand_array}))  # Will succeed."
   ]
  },
  {
   "cell_type": "markdown",
   "metadata": {},
   "source": [
    "# tf.rand_normal\n",
    "\n",
    "References:\n",
    "- https://www.tensorflow.org/api_docs/python/tf/random_normal \n",
    "- https://www.tensorflow.org/api_guides/python/constant_op#Random_Tensors\n"
   ]
  },
  {
   "cell_type": "code",
   "execution_count": 11,
   "metadata": {
    "scrolled": true
   },
   "outputs": [
    {
     "name": "stdout",
     "output_type": "stream",
     "text": [
      "Before setting a op-level seed:\n",
      "\n",
      "[[-8.45236588 -4.86988735 -3.19376016]\n",
      " [-2.93038106  5.39059544 -3.08960295]]\n",
      "[[-5.038908    0.46627212 -1.55824661]\n",
      " [-3.93750358  2.93456221  4.88614035]]\n",
      "After setting a op-level seed:\n",
      "\n",
      "[[ 0.51340485 -0.25581399  0.65199131]\n",
      " [ 1.39236379  0.37256798  0.20336303]] \n",
      "\n",
      "[[ 0.96462417  0.34291974  0.24251089]\n",
      " [ 1.05785966  1.65749764  0.82108968]] \n",
      "\n",
      "[[ 0.51340485 -0.25581399  0.65199131]\n",
      " [ 1.39236379  0.37256798  0.20336303]] \n",
      "\n",
      "[[ 0.96462417  0.34291974  0.24251089]\n",
      " [ 1.05785966  1.65749764  0.82108968]] \n",
      "\n"
     ]
    }
   ],
   "source": [
    "# Create a tensor of shape [2, 3] consisting of random normal values, with mean\n",
    "# -1 and standard deviation 4.\n",
    "norm = tf.random_normal([2, 3], mean=-1, stddev=4)\n",
    "\n",
    "# Shuffle the first dimension of a tensor\n",
    "c = tf.constant([[1, 2], [3, 4], [5, 6]])\n",
    "shuff = tf.random_shuffle(c)\n",
    "\n",
    "# Each time we run these ops, different results are generated\n",
    "sess = tf.Session()\n",
    "print(\"Before setting a op-level seed:\\n\")\n",
    "print(sess.run(norm))\n",
    "print(sess.run(norm))\n",
    "\n",
    "# Set an op-level seed to generate repeatable sequences across sessions.\n",
    "norm = tf.random_normal([2, 3], seed=1234)\n",
    "sess = tf.Session()\n",
    "print(\"After setting a op-level seed:\\n\")\n",
    "print(sess.run(norm), \"\\n\")\n",
    "print(sess.run(norm), \"\\n\")\n",
    "sess = tf.Session()\n",
    "print(sess.run(norm), \"\\n\")\n",
    "print(sess.run(norm), \"\\n\")\n"
   ]
  },
  {
   "cell_type": "markdown",
   "metadata": {},
   "source": [
    "# Definition of rank and shape of a tensor\n",
    "\n",
    "Reference: https://www.tensorflow.org/programmers_guide/tensors#shape "
   ]
  },
  {
   "cell_type": "code",
   "execution_count": null,
   "metadata": {
    "collapsed": true
   },
   "outputs": [],
   "source": []
  },
  {
   "cell_type": "markdown",
   "metadata": {},
   "source": [
    "# Constant value tensors \n",
    "\n",
    "Reference: https://www.tensorflow.org/versions/r0.12/api_docs/python/constant_op/constant_value_tensors "
   ]
  },
  {
   "cell_type": "code",
   "execution_count": null,
   "metadata": {
    "collapsed": true
   },
   "outputs": [],
   "source": []
  },
  {
   "cell_type": "markdown",
   "metadata": {
    "collapsed": true
   },
   "source": [
    "# Shapes and Shaping \n",
    "\n",
    "Reference: https://www.tensorflow.org/versions/r0.12/api_docs/python/array_ops/shapes_and_shaping "
   ]
  },
  {
   "cell_type": "markdown",
   "metadata": {},
   "source": [
    "The **tf.shape()** method shows the shape of the matrix: "
   ]
  },
  {
   "cell_type": "code",
   "execution_count": 17,
   "metadata": {},
   "outputs": [
    {
     "data": {
      "text/plain": [
       "<tf.Tensor 'Shape_2:0' shape=(3,) dtype=int32>"
      ]
     },
     "execution_count": 17,
     "metadata": {},
     "output_type": "execute_result"
    }
   ],
   "source": [
    "t = [[[1, 1, 1], [2, 2, 2]], [[3, 3, 3], [4, 4, 4]]]\n",
    "tf.shape(t)\n",
    "\n",
    "# shape(t) ==> [2, 2, 3]"
   ]
  },
  {
   "cell_type": "markdown",
   "metadata": {},
   "source": [
    "The **tf.size()** method shows the total number of elements in the tensor "
   ]
  },
  {
   "cell_type": "code",
   "execution_count": 19,
   "metadata": {},
   "outputs": [
    {
     "data": {
      "text/plain": [
       "<tf.Tensor 'Size:0' shape=() dtype=int32>"
      ]
     },
     "execution_count": 19,
     "metadata": {},
     "output_type": "execute_result"
    }
   ],
   "source": [
    "tf.size(t)\n",
    "# size(t) ==> 12"
   ]
  },
  {
   "cell_type": "markdown",
   "metadata": {},
   "source": [
    "The **tf.rank()** method returns the size of rank of the matrix (the number of dimensions):"
   ]
  },
  {
   "cell_type": "code",
   "execution_count": 20,
   "metadata": {},
   "outputs": [
    {
     "data": {
      "text/plain": [
       "<tf.Tensor 'Rank:0' shape=() dtype=int32>"
      ]
     },
     "execution_count": 20,
     "metadata": {},
     "output_type": "execute_result"
    }
   ],
   "source": [
    "tf.rank(t)\n",
    "# rank(t) ==> 3"
   ]
  },
  {
   "cell_type": "markdown",
   "metadata": {},
   "source": [
    "The **tf.reshape()** method is used to reshape a tensor"
   ]
  },
  {
   "cell_type": "code",
   "execution_count": null,
   "metadata": {
    "collapsed": true
   },
   "outputs": [],
   "source": [
    "# tensor 't' is [1, 2, 3, 4, 5, 6, 7, 8, 9]\n",
    "# tensor 't' has shape [9]\n",
    "reshape(t, [3, 3]) ==> [[1, 2, 3],\n",
    "                        [4, 5, 6],\n",
    "                        [7, 8, 9]]\n",
    "\n",
    "# tensor 't' is [[[1, 1], [2, 2]],\n",
    "#                [[3, 3], [4, 4]]]\n",
    "# tensor 't' has shape [2, 2, 2]\n",
    "reshape(t, [2, 4]) ==> [[1, 1, 2, 2],\n",
    "                        [3, 3, 4, 4]]\n",
    "\n",
    "# tensor 't' is [[[1, 1, 1],\n",
    "#                 [2, 2, 2]],\n",
    "#                [[3, 3, 3],\n",
    "#                 [4, 4, 4]],\n",
    "#                [[5, 5, 5],\n",
    "#                 [6, 6, 6]]]\n",
    "# tensor 't' has shape [3, 2, 3]\n",
    "# pass '[-1]' to flatten 't'\n",
    "reshape(t, [-1]) ==> [1, 1, 1, 2, 2, 2, 3, 3, 3, 4, 4, 4, 5, 5, 5, 6, 6, 6]\n",
    "\n",
    "# -1 can also be used to infer the shape\n",
    "\n",
    "# -1 is inferred to be 9:\n",
    "reshape(t, [2, -1]) ==> [[1, 1, 1, 2, 2, 2, 3, 3, 3],\n",
    "                         [4, 4, 4, 5, 5, 5, 6, 6, 6]]\n",
    "# -1 is inferred to be 2:\n",
    "reshape(t, [-1, 9]) ==> [[1, 1, 1, 2, 2, 2, 3, 3, 3],\n",
    "                         [4, 4, 4, 5, 5, 5, 6, 6, 6]]\n",
    "# -1 is inferred to be 3:\n",
    "reshape(t, [ 2, -1, 3]) ==> [[[1, 1, 1],\n",
    "                              [2, 2, 2],\n",
    "                              [3, 3, 3]],\n",
    "                             [[4, 4, 4],\n",
    "                              [5, 5, 5],\n",
    "                              [6, 6, 6]]]\n",
    "\n",
    "# tensor 't' is [7]\n",
    "# shape `[]` reshapes to a scalar\n",
    "reshape(t, []) ==> 7"
   ]
  }
 ],
 "metadata": {
  "kernelspec": {
   "display_name": "Python 3",
   "language": "python",
   "name": "python3"
  },
  "language_info": {
   "codemirror_mode": {
    "name": "ipython",
    "version": 3
   },
   "file_extension": ".py",
   "mimetype": "text/x-python",
   "name": "python",
   "nbconvert_exporter": "python",
   "pygments_lexer": "ipython3",
   "version": "3.6.1"
  }
 },
 "nbformat": 4,
 "nbformat_minor": 2
}
